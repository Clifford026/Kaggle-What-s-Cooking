{
 "cells": [
  {
   "cell_type": "markdown",
   "metadata": {},
   "source": [
    "### Import Libraries"
   ]
  },
  {
   "cell_type": "code",
   "execution_count": 62,
   "metadata": {},
   "outputs": [],
   "source": [
    "import pandas as pd\n",
    "import random\n",
    "import gc\n",
    "import seaborn as sb\n",
    "import matplotlib.pyplot as plt\n",
    "import numpy as np\n",
    "from sklearn.model_selection import train_test_split\n",
    "from sklearn import metrics\n",
    "from sklearn.model_selection import cross_val_score"
   ]
  },
  {
   "cell_type": "markdown",
   "metadata": {},
   "source": [
    "### Import the Dataset"
   ]
  },
  {
   "cell_type": "code",
   "execution_count": 2,
   "metadata": {},
   "outputs": [],
   "source": [
    "data_df=pd.read_json('train.json')"
   ]
  },
  {
   "cell_type": "code",
   "execution_count": 3,
   "metadata": {},
   "outputs": [
    {
     "data": {
      "text/html": [
       "<div>\n",
       "<style scoped>\n",
       "    .dataframe tbody tr th:only-of-type {\n",
       "        vertical-align: middle;\n",
       "    }\n",
       "\n",
       "    .dataframe tbody tr th {\n",
       "        vertical-align: top;\n",
       "    }\n",
       "\n",
       "    .dataframe thead th {\n",
       "        text-align: right;\n",
       "    }\n",
       "</style>\n",
       "<table border=\"1\" class=\"dataframe\">\n",
       "  <thead>\n",
       "    <tr style=\"text-align: right;\">\n",
       "      <th></th>\n",
       "      <th>id</th>\n",
       "      <th>cuisine</th>\n",
       "      <th>ingredients</th>\n",
       "    </tr>\n",
       "  </thead>\n",
       "  <tbody>\n",
       "    <tr>\n",
       "      <th>0</th>\n",
       "      <td>10259</td>\n",
       "      <td>greek</td>\n",
       "      <td>[romaine lettuce, black olives, grape tomatoes...</td>\n",
       "    </tr>\n",
       "    <tr>\n",
       "      <th>1</th>\n",
       "      <td>25693</td>\n",
       "      <td>southern_us</td>\n",
       "      <td>[plain flour, ground pepper, salt, tomatoes, g...</td>\n",
       "    </tr>\n",
       "    <tr>\n",
       "      <th>2</th>\n",
       "      <td>20130</td>\n",
       "      <td>filipino</td>\n",
       "      <td>[eggs, pepper, salt, mayonaise, cooking oil, g...</td>\n",
       "    </tr>\n",
       "    <tr>\n",
       "      <th>3</th>\n",
       "      <td>22213</td>\n",
       "      <td>indian</td>\n",
       "      <td>[water, vegetable oil, wheat, salt]</td>\n",
       "    </tr>\n",
       "    <tr>\n",
       "      <th>4</th>\n",
       "      <td>13162</td>\n",
       "      <td>indian</td>\n",
       "      <td>[black pepper, shallots, cornflour, cayenne pe...</td>\n",
       "    </tr>\n",
       "    <tr>\n",
       "      <th>...</th>\n",
       "      <td>...</td>\n",
       "      <td>...</td>\n",
       "      <td>...</td>\n",
       "    </tr>\n",
       "    <tr>\n",
       "      <th>39769</th>\n",
       "      <td>29109</td>\n",
       "      <td>irish</td>\n",
       "      <td>[light brown sugar, granulated sugar, butter, ...</td>\n",
       "    </tr>\n",
       "    <tr>\n",
       "      <th>39770</th>\n",
       "      <td>11462</td>\n",
       "      <td>italian</td>\n",
       "      <td>[KRAFT Zesty Italian Dressing, purple onion, b...</td>\n",
       "    </tr>\n",
       "    <tr>\n",
       "      <th>39771</th>\n",
       "      <td>2238</td>\n",
       "      <td>irish</td>\n",
       "      <td>[eggs, citrus fruit, raisins, sourdough starte...</td>\n",
       "    </tr>\n",
       "    <tr>\n",
       "      <th>39772</th>\n",
       "      <td>41882</td>\n",
       "      <td>chinese</td>\n",
       "      <td>[boneless chicken skinless thigh, minced garli...</td>\n",
       "    </tr>\n",
       "    <tr>\n",
       "      <th>39773</th>\n",
       "      <td>2362</td>\n",
       "      <td>mexican</td>\n",
       "      <td>[green chile, jalapeno chilies, onions, ground...</td>\n",
       "    </tr>\n",
       "  </tbody>\n",
       "</table>\n",
       "<p>39774 rows × 3 columns</p>\n",
       "</div>"
      ],
      "text/plain": [
       "          id      cuisine                                        ingredients\n",
       "0      10259        greek  [romaine lettuce, black olives, grape tomatoes...\n",
       "1      25693  southern_us  [plain flour, ground pepper, salt, tomatoes, g...\n",
       "2      20130     filipino  [eggs, pepper, salt, mayonaise, cooking oil, g...\n",
       "3      22213       indian                [water, vegetable oil, wheat, salt]\n",
       "4      13162       indian  [black pepper, shallots, cornflour, cayenne pe...\n",
       "...      ...          ...                                                ...\n",
       "39769  29109        irish  [light brown sugar, granulated sugar, butter, ...\n",
       "39770  11462      italian  [KRAFT Zesty Italian Dressing, purple onion, b...\n",
       "39771   2238        irish  [eggs, citrus fruit, raisins, sourdough starte...\n",
       "39772  41882      chinese  [boneless chicken skinless thigh, minced garli...\n",
       "39773   2362      mexican  [green chile, jalapeno chilies, onions, ground...\n",
       "\n",
       "[39774 rows x 3 columns]"
      ]
     },
     "execution_count": 3,
     "metadata": {},
     "output_type": "execute_result"
    }
   ],
   "source": [
    "data_df"
   ]
  },
  {
   "cell_type": "markdown",
   "metadata": {},
   "source": [
    "### Data Exploratary "
   ]
  },
  {
   "cell_type": "code",
   "execution_count": null,
   "metadata": {},
   "outputs": [],
   "source": [
    "data_with_ingr_df.describe()"
   ]
  },
  {
   "cell_type": "code",
   "execution_count": 4,
   "metadata": {},
   "outputs": [
    {
     "data": {
      "text/plain": [
       "<seaborn.axisgrid.FacetGrid at 0x1dfaeda7940>"
      ]
     },
     "execution_count": 4,
     "metadata": {},
     "output_type": "execute_result"
    },
    {
     "data": {
      "image/png": "[encoded data removed]",
      "text/plain": [
       "<Figure size 576x576 with 1 Axes>"
      ]
     },
     "metadata": {
      "needs_background": "light"
     },
     "output_type": "display_data"
    }
   ],
   "source": [
    "sb.catplot(y = \"cuisine\", data = data_df, kind = \"count\", height = 8, order = data_df['cuisine'].value_counts().index)"
   ]
  },
  {
   "cell_type": "code",
   "execution_count": 84,
   "metadata": {},
   "outputs": [
    {
     "name": "stderr",
     "output_type": "stream",
     "text": [
      "<ipython-input-84-3a27d5d37a5c>:5: SettingWithCopyWarning: \n",
      "A value is trying to be set on a copy of a slice from a DataFrame\n",
      "\n",
      "See the caveats in the documentation: https://pandas.pydata.org/pandas-docs/stable/user_guide/indexing.html#returning-a-view-versus-a-copy\n",
      "  data_with_ingr_df['ingredient_count'][index] = len(data_with_ingr_df.ingredients[index])\n"
     ]
    }
   ],
   "source": [
    "data_with_ingr_df = data_df.copy()\n",
    "data_with_ingr_df['ingredient_count'] = 0\n",
    "\n",
    "for index in range(39774):\n",
    "    data_with_ingr_df['ingredient_count'][index] = len(data_with_ingr_df.ingredients[index])"
   ]
  },
  {
   "cell_type": "code",
   "execution_count": 85,
   "metadata": {},
   "outputs": [
    {
     "data": {
      "text/html": [
       "<div>\n",
       "<style scoped>\n",
       "    .dataframe tbody tr th:only-of-type {\n",
       "        vertical-align: middle;\n",
       "    }\n",
       "\n",
       "    .dataframe tbody tr th {\n",
       "        vertical-align: top;\n",
       "    }\n",
       "\n",
       "    .dataframe thead th {\n",
       "        text-align: right;\n",
       "    }\n",
       "</style>\n",
       "<table border=\"1\" class=\"dataframe\">\n",
       "  <thead>\n",
       "    <tr style=\"text-align: right;\">\n",
       "      <th></th>\n",
       "      <th>id</th>\n",
       "      <th>cuisine</th>\n",
       "      <th>ingredients</th>\n",
       "      <th>ingredient_count</th>\n",
       "    </tr>\n",
       "  </thead>\n",
       "  <tbody>\n",
       "    <tr>\n",
       "      <th>0</th>\n",
       "      <td>10259</td>\n",
       "      <td>greek</td>\n",
       "      <td>[romaine lettuce, black olives, grape tomatoes...</td>\n",
       "      <td>9</td>\n",
       "    </tr>\n",
       "    <tr>\n",
       "      <th>1</th>\n",
       "      <td>25693</td>\n",
       "      <td>southern_us</td>\n",
       "      <td>[plain flour, ground pepper, salt, tomatoes, g...</td>\n",
       "      <td>11</td>\n",
       "    </tr>\n",
       "    <tr>\n",
       "      <th>2</th>\n",
       "      <td>20130</td>\n",
       "      <td>filipino</td>\n",
       "      <td>[eggs, pepper, salt, mayonaise, cooking oil, g...</td>\n",
       "      <td>12</td>\n",
       "    </tr>\n",
       "    <tr>\n",
       "      <th>3</th>\n",
       "      <td>22213</td>\n",
       "      <td>indian</td>\n",
       "      <td>[water, vegetable oil, wheat, salt]</td>\n",
       "      <td>4</td>\n",
       "    </tr>\n",
       "    <tr>\n",
       "      <th>4</th>\n",
       "      <td>13162</td>\n",
       "      <td>indian</td>\n",
       "      <td>[black pepper, shallots, cornflour, cayenne pe...</td>\n",
       "      <td>20</td>\n",
       "    </tr>\n",
       "  </tbody>\n",
       "</table>\n",
       "</div>"
      ],
      "text/plain": [
       "      id      cuisine                                        ingredients  \\\n",
       "0  10259        greek  [romaine lettuce, black olives, grape tomatoes...   \n",
       "1  25693  southern_us  [plain flour, ground pepper, salt, tomatoes, g...   \n",
       "2  20130     filipino  [eggs, pepper, salt, mayonaise, cooking oil, g...   \n",
       "3  22213       indian                [water, vegetable oil, wheat, salt]   \n",
       "4  13162       indian  [black pepper, shallots, cornflour, cayenne pe...   \n",
       "\n",
       "   ingredient_count  \n",
       "0                 9  \n",
       "1                11  \n",
       "2                12  \n",
       "3                 4  \n",
       "4                20  "
      ]
     },
     "execution_count": 85,
     "metadata": {},
     "output_type": "execute_result"
    }
   ],
   "source": [
    "data_with_ingr_df.head()"
   ]
  },
  {
   "cell_type": "code",
   "execution_count": 86,
   "metadata": {},
   "outputs": [
    {
     "data": {
      "text/html": [
       "<div>\n",
       "<style scoped>\n",
       "    .dataframe tbody tr th:only-of-type {\n",
       "        vertical-align: middle;\n",
       "    }\n",
       "\n",
       "    .dataframe tbody tr th {\n",
       "        vertical-align: top;\n",
       "    }\n",
       "\n",
       "    .dataframe thead th {\n",
       "        text-align: right;\n",
       "    }\n",
       "</style>\n",
       "<table border=\"1\" class=\"dataframe\">\n",
       "  <thead>\n",
       "    <tr style=\"text-align: right;\">\n",
       "      <th></th>\n",
       "      <th>id</th>\n",
       "      <th>ingredient_count</th>\n",
       "    </tr>\n",
       "  </thead>\n",
       "  <tbody>\n",
       "    <tr>\n",
       "      <th>count</th>\n",
       "      <td>39774.000000</td>\n",
       "      <td>39774.000000</td>\n",
       "    </tr>\n",
       "    <tr>\n",
       "      <th>mean</th>\n",
       "      <td>24849.536959</td>\n",
       "      <td>10.767713</td>\n",
       "    </tr>\n",
       "    <tr>\n",
       "      <th>std</th>\n",
       "      <td>14360.035505</td>\n",
       "      <td>4.428978</td>\n",
       "    </tr>\n",
       "    <tr>\n",
       "      <th>min</th>\n",
       "      <td>0.000000</td>\n",
       "      <td>1.000000</td>\n",
       "    </tr>\n",
       "    <tr>\n",
       "      <th>25%</th>\n",
       "      <td>12398.250000</td>\n",
       "      <td>8.000000</td>\n",
       "    </tr>\n",
       "    <tr>\n",
       "      <th>50%</th>\n",
       "      <td>24887.000000</td>\n",
       "      <td>10.000000</td>\n",
       "    </tr>\n",
       "    <tr>\n",
       "      <th>75%</th>\n",
       "      <td>37328.500000</td>\n",
       "      <td>13.000000</td>\n",
       "    </tr>\n",
       "    <tr>\n",
       "      <th>max</th>\n",
       "      <td>49717.000000</td>\n",
       "      <td>65.000000</td>\n",
       "    </tr>\n",
       "  </tbody>\n",
       "</table>\n",
       "</div>"
      ],
      "text/plain": [
       "                 id  ingredient_count\n",
       "count  39774.000000      39774.000000\n",
       "mean   24849.536959         10.767713\n",
       "std    14360.035505          4.428978\n",
       "min        0.000000          1.000000\n",
       "25%    12398.250000          8.000000\n",
       "50%    24887.000000         10.000000\n",
       "75%    37328.500000         13.000000\n",
       "max    49717.000000         65.000000"
      ]
     },
     "execution_count": 86,
     "metadata": {},
     "output_type": "execute_result"
    }
   ],
   "source": [
    "data_with_ingr_df.describe()"
   ]
  },
  {
   "cell_type": "code",
   "execution_count": 87,
   "metadata": {},
   "outputs": [
    {
     "data": {
      "text/plain": [
       "<AxesSubplot:xlabel='ingredient_count'>"
      ]
     },
     "execution_count": 87,
     "metadata": {},
     "output_type": "execute_result"
    },
    {
     "data": {
      "image/png": "[encoded data removed]",
      "text/plain": [
       "<Figure size 1728x432 with 1 Axes>"
      ]
     },
     "metadata": {
      "needs_background": "light"
     },
     "output_type": "display_data"
    }
   ],
   "source": [
    "f, ax = plt.subplots(figsize=(24,6))\n",
    "sb.boxplot(x = 'ingredient_count', data = data_with_ingr_df)"
   ]
  },
  {
   "cell_type": "code",
   "execution_count": 88,
   "metadata": {},
   "outputs": [
    {
     "data": {
      "text/plain": [
       "<AxesSubplot:xlabel='ingredient_count', ylabel='number_of_dishes'>"
      ]
     },
     "execution_count": 88,
     "metadata": {},
     "output_type": "execute_result"
    },
    {
     "data": {
      "image/png": "[encoded data removed]",
      "text/plain": [
       "<Figure size 1152x576 with 1 Axes>"
      ]
     },
     "metadata": {
      "needs_background": "light"
     },
     "output_type": "display_data"
    }
   ],
   "source": [
    "# barplot of no. of meals containing <ingredient_count> types of ingredients\n",
    "\n",
    "f, ax = plt.subplots(figsize=(16,8))\n",
    "sb.barplot(x ='ingredient_count', y ='number_of_dishes',\n",
    "            data = (data_with_ingr_df.ingredients.map(lambda x: len(x))\n",
    "                    .value_counts()\n",
    "                    .sort_index()\n",
    "                    .reset_index()\n",
    "                    .rename(columns={'index':'ingredient_count', 'ingredients':'number_of_dishes'}))\n",
    "            )"
   ]
  },
  {
   "cell_type": "markdown",
   "metadata": {},
   "source": [
    "### Data Cleaning "
   ]
  },
  {
   "cell_type": "code",
   "execution_count": 4,
   "metadata": {},
   "outputs": [],
   "source": [
    "data_ingredients=data_df.ingredients\n",
    "rawlist=[item for sublist in data_ingredients.ravel() for item in sublist] #convert the ingredients list of lists into a list\n",
    "ingredients=list(set(rawlist)) #remove duplicates13"
   ]
  },
  {
   "cell_type": "code",
   "execution_count": 66,
   "metadata": {},
   "outputs": [],
   "source": [
    "train_df, test_df = train_test_split(data_df, test_size = 0.25)"
   ]
  },
  {
   "cell_type": "code",
   "execution_count": 67,
   "metadata": {},
   "outputs": [
    {
     "name": "stderr",
     "output_type": "stream",
     "text": [
      "<ipython-input-67-9187aeb17629>:9: SettingWithCopyWarning: \n",
      "A value is trying to be set on a copy of a slice from a DataFrame.\n",
      "Try using .loc[row_indexer,col_indexer] = value instead\n",
      "\n",
      "See the caveats in the documentation: https://pandas.pydata.org/pandas-docs/stable/user_guide/indexing.html#returning-a-view-versus-a-copy\n",
      "  train_df[ing]=pd.Series(vector,index=train_df.index) # Adds column containing 0 and 1's for this ingredient\n",
      "<ipython-input-67-9187aeb17629>:18: SettingWithCopyWarning: \n",
      "A value is trying to be set on a copy of a slice from a DataFrame.\n",
      "Try using .loc[row_indexer,col_indexer] = value instead\n",
      "\n",
      "See the caveats in the documentation: https://pandas.pydata.org/pandas-docs/stable/user_guide/indexing.html#returning-a-view-versus-a-copy\n",
      "  test_df[ing]=pd.Series(vector,index=test_df.index) # Adds column containing 0 and 1's for this ingredient\n"
     ]
    },
    {
     "data": {
      "text/html": [
       "<div>\n",
       "<style scoped>\n",
       "    .dataframe tbody tr th:only-of-type {\n",
       "        vertical-align: middle;\n",
       "    }\n",
       "\n",
       "    .dataframe tbody tr th {\n",
       "        vertical-align: top;\n",
       "    }\n",
       "\n",
       "    .dataframe thead th {\n",
       "        text-align: right;\n",
       "    }\n",
       "</style>\n",
       "<table border=\"1\" class=\"dataframe\">\n",
       "  <thead>\n",
       "    <tr style=\"text-align: right;\">\n",
       "      <th></th>\n",
       "      <th>cuisine</th>\n",
       "      <th>vermicelli noodles</th>\n",
       "      <th>unsalted roasted peanuts</th>\n",
       "      <th>light red kidney beans</th>\n",
       "      <th>spaghetti</th>\n",
       "      <th>prego traditional italian sauce</th>\n",
       "      <th>dried bonito flakes</th>\n",
       "      <th>choy sum</th>\n",
       "      <th>almond butter</th>\n",
       "      <th>vermicelli</th>\n",
       "      <th>...</th>\n",
       "      <th>tuna in oil</th>\n",
       "      <th>bone-in short ribs</th>\n",
       "      <th>short rib</th>\n",
       "      <th>lamb cutlet</th>\n",
       "      <th>Philadelphia Cream Cheese</th>\n",
       "      <th>pace picante sauce</th>\n",
       "      <th>ground mustard</th>\n",
       "      <th>frozen mixed vegetables</th>\n",
       "      <th>fresh basil</th>\n",
       "      <th>canola mayonnaise</th>\n",
       "    </tr>\n",
       "  </thead>\n",
       "  <tbody>\n",
       "    <tr>\n",
       "      <th>25602</th>\n",
       "      <td>italian</td>\n",
       "      <td>0</td>\n",
       "      <td>0</td>\n",
       "      <td>0</td>\n",
       "      <td>0</td>\n",
       "      <td>0</td>\n",
       "      <td>0</td>\n",
       "      <td>0</td>\n",
       "      <td>0</td>\n",
       "      <td>0</td>\n",
       "      <td>...</td>\n",
       "      <td>0</td>\n",
       "      <td>0</td>\n",
       "      <td>0</td>\n",
       "      <td>0</td>\n",
       "      <td>0</td>\n",
       "      <td>0</td>\n",
       "      <td>0</td>\n",
       "      <td>0</td>\n",
       "      <td>0</td>\n",
       "      <td>0</td>\n",
       "    </tr>\n",
       "    <tr>\n",
       "      <th>10485</th>\n",
       "      <td>french</td>\n",
       "      <td>0</td>\n",
       "      <td>0</td>\n",
       "      <td>0</td>\n",
       "      <td>0</td>\n",
       "      <td>0</td>\n",
       "      <td>0</td>\n",
       "      <td>0</td>\n",
       "      <td>0</td>\n",
       "      <td>0</td>\n",
       "      <td>...</td>\n",
       "      <td>0</td>\n",
       "      <td>0</td>\n",
       "      <td>0</td>\n",
       "      <td>0</td>\n",
       "      <td>0</td>\n",
       "      <td>0</td>\n",
       "      <td>0</td>\n",
       "      <td>0</td>\n",
       "      <td>0</td>\n",
       "      <td>0</td>\n",
       "    </tr>\n",
       "    <tr>\n",
       "      <th>4549</th>\n",
       "      <td>italian</td>\n",
       "      <td>0</td>\n",
       "      <td>0</td>\n",
       "      <td>0</td>\n",
       "      <td>0</td>\n",
       "      <td>0</td>\n",
       "      <td>0</td>\n",
       "      <td>0</td>\n",
       "      <td>0</td>\n",
       "      <td>0</td>\n",
       "      <td>...</td>\n",
       "      <td>0</td>\n",
       "      <td>0</td>\n",
       "      <td>0</td>\n",
       "      <td>0</td>\n",
       "      <td>0</td>\n",
       "      <td>0</td>\n",
       "      <td>0</td>\n",
       "      <td>0</td>\n",
       "      <td>0</td>\n",
       "      <td>0</td>\n",
       "    </tr>\n",
       "    <tr>\n",
       "      <th>4888</th>\n",
       "      <td>moroccan</td>\n",
       "      <td>0</td>\n",
       "      <td>0</td>\n",
       "      <td>0</td>\n",
       "      <td>0</td>\n",
       "      <td>0</td>\n",
       "      <td>0</td>\n",
       "      <td>0</td>\n",
       "      <td>0</td>\n",
       "      <td>0</td>\n",
       "      <td>...</td>\n",
       "      <td>0</td>\n",
       "      <td>0</td>\n",
       "      <td>0</td>\n",
       "      <td>0</td>\n",
       "      <td>0</td>\n",
       "      <td>0</td>\n",
       "      <td>0</td>\n",
       "      <td>0</td>\n",
       "      <td>0</td>\n",
       "      <td>0</td>\n",
       "    </tr>\n",
       "    <tr>\n",
       "      <th>2667</th>\n",
       "      <td>japanese</td>\n",
       "      <td>0</td>\n",
       "      <td>0</td>\n",
       "      <td>0</td>\n",
       "      <td>0</td>\n",
       "      <td>0</td>\n",
       "      <td>0</td>\n",
       "      <td>0</td>\n",
       "      <td>0</td>\n",
       "      <td>0</td>\n",
       "      <td>...</td>\n",
       "      <td>0</td>\n",
       "      <td>0</td>\n",
       "      <td>0</td>\n",
       "      <td>0</td>\n",
       "      <td>0</td>\n",
       "      <td>0</td>\n",
       "      <td>0</td>\n",
       "      <td>0</td>\n",
       "      <td>0</td>\n",
       "      <td>0</td>\n",
       "    </tr>\n",
       "  </tbody>\n",
       "</table>\n",
       "<p>5 rows × 6715 columns</p>\n",
       "</div>"
      ],
      "text/plain": [
       "        cuisine  vermicelli noodles  unsalted roasted peanuts  \\\n",
       "25602   italian                   0                         0   \n",
       "10485    french                   0                         0   \n",
       "4549    italian                   0                         0   \n",
       "4888   moroccan                   0                         0   \n",
       "2667   japanese                   0                         0   \n",
       "\n",
       "       light red kidney beans  spaghetti  prego traditional italian sauce  \\\n",
       "25602                       0          0                                0   \n",
       "10485                       0          0                                0   \n",
       "4549                        0          0                                0   \n",
       "4888                        0          0                                0   \n",
       "2667                        0          0                                0   \n",
       "\n",
       "       dried bonito flakes  choy sum  almond butter  vermicelli  ...  \\\n",
       "25602                    0         0              0           0  ...   \n",
       "10485                    0         0              0           0  ...   \n",
       "4549                     0         0              0           0  ...   \n",
       "4888                     0         0              0           0  ...   \n",
       "2667                     0         0              0           0  ...   \n",
       "\n",
       "       tuna in oil  bone-in short ribs  short rib  lamb cutlet  \\\n",
       "25602            0                   0          0            0   \n",
       "10485            0                   0          0            0   \n",
       "4549             0                   0          0            0   \n",
       "4888             0                   0          0            0   \n",
       "2667             0                   0          0            0   \n",
       "\n",
       "       Philadelphia Cream Cheese  pace picante sauce  ground mustard  \\\n",
       "25602                          0                   0               0   \n",
       "10485                          0                   0               0   \n",
       "4549                           0                   0               0   \n",
       "4888                           0                   0               0   \n",
       "2667                           0                   0               0   \n",
       "\n",
       "       frozen mixed vegetables  fresh basil  canola mayonnaise  \n",
       "25602                        0            0                  0  \n",
       "10485                        0            0                  0  \n",
       "4549                         0            0                  0  \n",
       "4888                         0            0                  0  \n",
       "2667                         0            0                  0  \n",
       "\n",
       "[5 rows x 6715 columns]"
      ]
     },
     "execution_count": 67,
     "metadata": {},
     "output_type": "execute_result"
    }
   ],
   "source": [
    "for ing in ingredients:\n",
    "    vector=[]\n",
    "    # loop for train data\n",
    "    for recipe in train_df.ingredients: \n",
    "        if ing in recipe:\n",
    "            vector.append(1)\n",
    "        else:\n",
    "            vector.append(0)\n",
    "    train_df[ing]=pd.Series(vector,index=train_df.index) # Adds column containing 0 and 1's for this ingredient\n",
    "    \n",
    "    # loop for test data\n",
    "    vector=[]\n",
    "    for recipe in test_df.ingredients:\n",
    "        if ing in recipe:\n",
    "            vector.append(1)\n",
    "        else:\n",
    "            vector.append(0)\n",
    "    test_df[ing]=pd.Series(vector,index=test_df.index) # Adds column containing 0 and 1's for this ingredient\n",
    "\n",
    "# useless columns removal\n",
    "train_df=train_df.drop('ingredients',1)\n",
    "train_df=train_df.drop('id',1)\n",
    "\n",
    "test_df=test_df.drop('ingredients',1)\n",
    "test_df=test_df.drop('id',1)\n",
    "\n",
    "train_df.head()"
   ]
  },
  {
   "cell_type": "code",
   "execution_count": 68,
   "metadata": {},
   "outputs": [],
   "source": [
    "X_train=train_df.drop('cuisine',axis=1)\n",
    "Y_train=train_df['cuisine']\n",
    "X_test=test_df.drop('cuisine',axis=1)\n",
    "Y_test=test_df['cuisine']"
   ]
  },
  {
   "cell_type": "markdown",
   "metadata": {},
   "source": [
    "### Decision Tree"
   ]
  },
  {
   "cell_type": "code",
   "execution_count": 73,
   "metadata": {},
   "outputs": [],
   "source": [
    "from sklearn import tree\n",
    "\n",
    "clf = tree.DecisionTreeClassifier().fit(X_train, Y_train)"
   ]
  },
  {
   "cell_type": "code",
   "execution_count": 74,
   "metadata": {},
   "outputs": [
    {
     "data": {
      "text/plain": [
       "0.9997318136104593"
      ]
     },
     "execution_count": 74,
     "metadata": {},
     "output_type": "execute_result"
    }
   ],
   "source": [
    "Y_pred = clf.predict(X_train)\n",
    "metrics.accuracy_score(Y_train, Y_pred)"
   ]
  },
  {
   "cell_type": "code",
   "execution_count": 75,
   "metadata": {},
   "outputs": [
    {
     "data": {
      "text/plain": [
       "0.6072003218020917"
      ]
     },
     "execution_count": 75,
     "metadata": {},
     "output_type": "execute_result"
    }
   ],
   "source": [
    "Y_pred = clf.predict(X_test)\n",
    "metrics.accuracy_score(Y_test, Y_pred)"
   ]
  },
  {
   "cell_type": "code",
   "execution_count": 72,
   "metadata": {},
   "outputs": [
    {
     "data": {
      "image/png": "[encoded data removed]",
      "text/plain": [
       "<Figure size 432x288 with 1 Axes>"
      ]
     },
     "metadata": {
      "needs_background": "light"
     },
     "output_type": "display_data"
    }
   ],
   "source": [
    "opt_table_depth=list()\n",
    "n_depth = 100\n",
    "for i in range(1,n_depth):\n",
    "    forest=RFC(max_depth = n_depth)\n",
    "    clf.fit(X_train,Y_train)\n",
    "    output=clf.predict(X_test)\n",
    "    opt_table_depth.append(metrics.accuracy_score(Y_test, output))\n",
    "plt.plot(range(1,n_depth), opt_table_depth)\n",
    "plt.xlabel('Number of depth')\n",
    "plt.ylabel('Decision Tree Score')\n",
    "plt.title('Random Forest Score VS Number of depth')\n",
    "plt.show()"
   ]
  },
  {
   "cell_type": "markdown",
   "metadata": {},
   "source": [
    "### Random Forest"
   ]
  },
  {
   "cell_type": "code",
   "execution_count": 45,
   "metadata": {},
   "outputs": [
    {
     "data": {
      "text/plain": [
       "0.9947008084168182"
      ]
     },
     "execution_count": 45,
     "metadata": {},
     "output_type": "execute_result"
    }
   ],
   "source": [
    "from sklearn.ensemble import RandomForestClassifier as RFC\n",
    "\n",
    "forest=RFC(n_estimators=10,max_features=10)\n",
    "forest.fit(X_train,Y_train)\n",
    "\n",
    "output=forest.predict(X_train)\n",
    "metrics.accuracy_score(Y_train, output)"
   ]
  },
  {
   "cell_type": "code",
   "execution_count": 46,
   "metadata": {},
   "outputs": [
    {
     "data": {
      "text/plain": [
       "0.6497378061920839"
      ]
     },
     "execution_count": 46,
     "metadata": {},
     "output_type": "execute_result"
    }
   ],
   "source": [
    "output=forest.predict(X_test)\n",
    "metrics.accuracy_score(Y_test, output)"
   ]
  },
  {
   "cell_type": "code",
   "execution_count": 65,
   "metadata": {},
   "outputs": [
    {
     "name": "stdout",
     "output_type": "stream",
     "text": [
      "0.199203187250996\n",
      "0.19955462969614252\n",
      "[0.21059756 0.19667376 0.19764069 0.21237911 0.20251451]\n"
     ]
    }
   ],
   "source": [
    "forest=RFC(n_estimators=10,max_features=10, max_depth = 1)\n",
    "forest.fit(X_train,Y_train)\n",
    "\n",
    "output=forest.predict(X_train)\n",
    "print(metrics.accuracy_score(Y_train, output))\n",
    "output=forest.predict(X_test)\n",
    "print(metrics.accuracy_score(Y_test, output))\n",
    "\n",
    "kf = KFold(n_splits=100)\n",
    "scores = cross_val_score(forest, X_train, Y_train, cv=5)\n",
    "print(scores)\n"
   ]
  },
  {
   "cell_type": "code",
   "execution_count": 48,
   "metadata": {},
   "outputs": [
    {
     "name": "stdout",
     "output_type": "stream",
     "text": [
      "0.2365682899470081\n",
      "0.2376984412039365\n"
     ]
    }
   ],
   "source": [
    "forest=RFC(n_estimators=10,max_features=10, max_depth = 5)\n",
    "forest.fit(X_train,Y_train)\n",
    "\n",
    "output=forest.predict(X_train)\n",
    "print(metrics.accuracy_score(Y_train, output))\n",
    "output=forest.predict(X_test)\n",
    "print(metrics.accuracy_score(Y_test, output))\n",
    "\n"
   ]
  },
  {
   "cell_type": "code",
   "execution_count": 49,
   "metadata": {},
   "outputs": [
    {
     "name": "stdout",
     "output_type": "stream",
     "text": [
      "0.29563300197269177\n",
      "0.2960994181452482\n"
     ]
    }
   ],
   "source": [
    "forest=RFC(n_estimators=10,max_features=10, max_depth =10)\n",
    "forest.fit(X_train,Y_train)\n",
    "\n",
    "output=forest.predict(X_train)\n",
    "print(metrics.accuracy_score(Y_train, output))\n",
    "output=forest.predict(X_test)\n",
    "print(metrics.accuracy_score(Y_test, output))"
   ]
  },
  {
   "cell_type": "code",
   "execution_count": 61,
   "metadata": {},
   "outputs": [
    {
     "name": "stdout",
     "output_type": "stream",
     "text": [
      "0.7069585734730979\n",
      "0.5277638100711156\n"
     ]
    }
   ],
   "source": [
    "forest=RFC(n_estimators=10,max_features=10, max_depth =70)\n",
    "forest.fit(X_train,Y_train)\n",
    "\n",
    "output=forest.predict(X_train)\n",
    "print(metrics.accuracy_score(Y_train, output))\n",
    "output=forest.predict(X_test)\n",
    "print(metrics.accuracy_score(Y_test, output))"
   ]
  },
  {
   "cell_type": "code",
   "execution_count": 50,
   "metadata": {},
   "outputs": [
    {
     "name": "stdout",
     "output_type": "stream",
     "text": [
      "0.8148377364329091\n",
      "0.562675095179944\n"
     ]
    }
   ],
   "source": [
    "forest=RFC(n_estimators=10,max_features=10, max_depth =100)\n",
    "forest.fit(X_train,Y_train)\n",
    "\n",
    "output=forest.predict(X_train)\n",
    "print(metrics.accuracy_score(Y_train, output))\n",
    "output=forest.predict(X_test)\n",
    "print(metrics.accuracy_score(Y_test, output))"
   ]
  },
  {
   "cell_type": "code",
   "execution_count": 51,
   "metadata": {},
   "outputs": [
    {
     "name": "stdout",
     "output_type": "stream",
     "text": [
      "0.9946234479557499\n",
      "0.6497378061920839\n"
     ]
    }
   ],
   "source": [
    "forest=RFC(n_estimators=10,max_features=10, max_depth =1000)\n",
    "forest.fit(X_train,Y_train)\n",
    "\n",
    "output=forest.predict(X_train)\n",
    "print(metrics.accuracy_score(Y_train, output))\n",
    "output=forest.predict(X_test)\n",
    "print(metrics.accuracy_score(Y_test, output))"
   ]
  },
  {
   "cell_type": "code",
   "execution_count": 52,
   "metadata": {},
   "outputs": [
    {
     "name": "stdout",
     "output_type": "stream",
     "text": [
      "0.9949715700305574\n",
      "0.6401838948351412\n"
     ]
    }
   ],
   "source": [
    "forest=RFC(n_estimators=10,max_features=10, max_depth =1500)\n",
    "forest.fit(X_train,Y_train)\n",
    "\n",
    "output=forest.predict(X_train)\n",
    "print(metrics.accuracy_score(Y_train, output))\n",
    "output=forest.predict(X_test)\n",
    "print(metrics.accuracy_score(Y_test, output))"
   ]
  },
  {
   "cell_type": "code",
   "execution_count": 53,
   "metadata": {},
   "outputs": [
    {
     "name": "stdout",
     "output_type": "stream",
     "text": [
      "0.9944687270336131\n",
      "0.6439192586739458\n"
     ]
    }
   ],
   "source": [
    "forest=RFC(n_estimators=10,max_features=10, max_depth =2000)\n",
    "forest.fit(X_train,Y_train)\n",
    "\n",
    "output=forest.predict(X_train)\n",
    "print(metrics.accuracy_score(Y_train, output))\n",
    "output=forest.predict(X_test)\n",
    "print(metrics.accuracy_score(Y_test, output))"
   ]
  },
  {
   "cell_type": "code",
   "execution_count": 40,
   "metadata": {},
   "outputs": [
    {
     "name": "stdout",
     "output_type": "stream",
     "text": [
      "0.9943345625209521\n",
      "0.6609010458567981\n"
     ]
    }
   ],
   "source": [
    "forest=RFC(n_estimators=10,max_features=10, max_depth =3000)\n",
    "forest.fit(X_train,Y_train)\n",
    "\n",
    "output=forest.predict(X_train)\n",
    "print(metrics.accuracy_score(Y_train, output))\n",
    "output=forest.predict(X_test)\n",
    "print(metrics.accuracy_score(Y_test, output))"
   ]
  },
  {
   "cell_type": "markdown",
   "metadata": {},
   "source": [
    "the train set accuracy grows faster then the test set accuracy, but its overall getting better"
   ]
  },
  {
   "cell_type": "code",
   "execution_count": 9,
   "metadata": {},
   "outputs": [
    {
     "data": {
      "image/png": "[encoded data removed]",
      "text/plain": [
       "<Figure size 432x288 with 1 Axes>"
      ]
     },
     "metadata": {
      "needs_background": "light"
     },
     "output_type": "display_data"
    }
   ],
   "source": [
    "opt_table_estimators=list()\n",
    "n_features=5\n",
    "n_estimators=50\n",
    "for i in range(1,n_estimators):\n",
    "    forest=RFC(n_estimators=i,max_features=n_features)\n",
    "    forest.fit(X_train,Y_train)\n",
    "    output=forest.predict(X_test)\n",
    "    opt_table_estimators.append(metrics.accuracy_score(Y_test, output))\n",
    "plt.plot(range(1,n_estimators), opt_table_estimators)\n",
    "plt.xlabel('Number of trees')\n",
    "plt.ylabel('Random Forest Score')\n",
    "plt.title('Random Forest Score VS Number of trees (5 features)')\n",
    "plt.show()"
   ]
  },
  {
   "cell_type": "code",
   "execution_count": 10,
   "metadata": {},
   "outputs": [
    {
     "data": {
      "image/png": "[encoded data removed]",
      "text/plain": [
       "<Figure size 432x288 with 1 Axes>"
      ]
     },
     "metadata": {
      "needs_background": "light"
     },
     "output_type": "display_data"
    }
   ],
   "source": [
    "opt_table_n_features=list()\n",
    "n_estimators=5\n",
    "n_features=50\n",
    "for i in range(1,n_features):\n",
    "    forest=RFC(n_estimators=i,max_features=n_features)\n",
    "    forest.fit(X_train,Y_train)\n",
    "    output=forest.predict(X_test)\n",
    "    opt_table_n_features.append(metrics.accuracy_score(Y_test, output))\n",
    "plt.plot(range(1,n_features), opt_table_n_features)\n",
    "plt.xlabel('Number of features')\n",
    "plt.ylabel('Random Forest Score')\n",
    "plt.title('Random Forest Score VS Number of features (5 trees)')\n",
    "plt.show() "
   ]
  },
  {
   "cell_type": "code",
   "execution_count": 49,
   "metadata": {},
   "outputs": [
    {
     "data": {
      "text/plain": [
       "0.7162107803700724"
      ]
     },
     "execution_count": 49,
     "metadata": {},
     "output_type": "execute_result"
    }
   ],
   "source": [
    "forest=RFC(n_estimators=40,max_features=10)\n",
    "forest.fit(X_train,Y_train)\n",
    "output=forest.predict(X_test)\n",
    "metrics.accuracy_score(Y_test, output)"
   ]
  },
  {
   "cell_type": "code",
   "execution_count": 11,
   "metadata": {},
   "outputs": [
    {
     "data": {
      "text/plain": [
       "0.7108809332260659"
      ]
     },
     "execution_count": 11,
     "metadata": {},
     "output_type": "execute_result"
    }
   ],
   "source": [
    "forest=RFC(n_estimators=40,max_features=40)\n",
    "forest.fit(X_train,Y_train)\n",
    "output=forest.predict(X_test)\n",
    "metrics.accuracy_score(Y_test, output)"
   ]
  },
  {
   "cell_type": "code",
   "execution_count": 183,
   "metadata": {},
   "outputs": [
    {
     "data": {
      "image/png": "[encoded data removed]",
      "text/plain": [
       "<Figure size 432x288 with 1 Axes>"
      ]
     },
     "metadata": {
      "needs_background": "light"
     },
     "output_type": "display_data"
    }
   ],
   "source": [
    "importance = forest.feature_importances_\n",
    "importance = pd.DataFrame(importance, index=X_train.columns, columns=[\"Importance\"])\n",
    "importance_plot=importance.sort_values('Importance',ascending=False ).loc[importance['Importance']>0.004,:]\n",
    "x = np.arange(len(importance_plot.index.values))\n",
    "#print(importance_plot.index)\n",
    "y = importance_plot[\"Importance\"]\n",
    "plt.bar(x, y,align='center')\n",
    "plt.xticks(x,importance_plot.index.values,rotation=85)\n",
    "plt.ylabel('Importance')\n",
    "plt.title('Main ingredients importance')\n",
    "plt.autoscale(tight=True)\n",
    "plt.show()"
   ]
  },
  {
   "cell_type": "markdown",
   "metadata": {},
   "source": [
    "### MLP Classifier"
   ]
  },
  {
   "cell_type": "code",
   "execution_count": 77,
   "metadata": {},
   "outputs": [],
   "source": [
    "from sklearn.neural_network import MLPClassifier"
   ]
  },
  {
   "cell_type": "code",
   "execution_count": 78,
   "metadata": {},
   "outputs": [],
   "source": [
    "clf1 = MLPClassifier(hidden_layer_sizes=(3000, 1500), random_state=1, early_stopping = True, verbose=True)"
   ]
  },
  {
   "cell_type": "code",
   "execution_count": 79,
   "metadata": {},
   "outputs": [
    {
     "name": "stdout",
     "output_type": "stream",
     "text": [
      "Iteration 1, loss = 1.07429183\n",
      "Validation score: 0.776064\n",
      "Iteration 2, loss = 0.41000613\n",
      "Validation score: 0.774388\n",
      "Iteration 3, loss = 0.16029640\n",
      "Validation score: 0.782769\n",
      "Iteration 4, loss = 0.06521383\n",
      "Validation score: 0.782769\n",
      "Iteration 5, loss = 0.02670979\n",
      "Validation score: 0.776064\n",
      "Iteration 6, loss = 0.01591693\n",
      "Validation score: 0.777741\n",
      "Iteration 7, loss = 0.01131252\n",
      "Validation score: 0.779752\n",
      "Iteration 8, loss = 0.00780163\n",
      "Validation score: 0.780758\n",
      "Iteration 9, loss = 0.00642761\n",
      "Validation score: 0.780422\n",
      "Iteration 10, loss = 0.00570629\n",
      "Validation score: 0.786121\n",
      "Iteration 11, loss = 0.00572763\n",
      "Validation score: 0.781763\n",
      "Iteration 12, loss = 0.00647086\n",
      "Validation score: 0.774388\n",
      "Iteration 13, loss = 0.00640640\n",
      "Validation score: 0.775729\n",
      "Iteration 14, loss = 0.02581021\n",
      "Validation score: 0.766678\n",
      "Iteration 15, loss = 0.07024105\n",
      "Validation score: 0.765337\n",
      "Iteration 16, loss = 0.07775785\n",
      "Validation score: 0.754274\n",
      "Iteration 17, loss = 0.04225655\n",
      "Validation score: 0.760979\n",
      "Iteration 18, loss = 0.01648757\n",
      "Validation score: 0.770365\n",
      "Iteration 19, loss = 0.00851863\n",
      "Validation score: 0.766678\n",
      "Iteration 20, loss = 0.00712128\n",
      "Validation score: 0.774388\n",
      "Iteration 21, loss = 0.00592608\n",
      "Validation score: 0.775394\n",
      "Validation score did not improve more than tol=0.000100 for 10 consecutive epochs. Stopping.\n"
     ]
    },
    {
     "data": {
      "text/plain": [
       "MLPClassifier(early_stopping=True, hidden_layer_sizes=(3000, 1500),\n",
       "              random_state=1, verbose=True)"
      ]
     },
     "execution_count": 79,
     "metadata": {},
     "output_type": "execute_result"
    }
   ],
   "source": [
    "clf1.fit(X_train, Y_train)"
   ]
  },
  {
   "cell_type": "code",
   "execution_count": 80,
   "metadata": {},
   "outputs": [
    {
     "data": {
      "text/plain": [
       "0.9783104257458934"
      ]
     },
     "execution_count": 80,
     "metadata": {},
     "output_type": "execute_result"
    }
   ],
   "source": [
    "output1=clf1.predict(X_train)\n",
    "metrics.accuracy_score(Y_train, output1)"
   ]
  },
  {
   "cell_type": "code",
   "execution_count": 186,
   "metadata": {},
   "outputs": [
    {
     "data": {
      "text/plain": [
       "0.7723250201126307"
      ]
     },
     "execution_count": 186,
     "metadata": {},
     "output_type": "execute_result"
    }
   ],
   "source": [
    "output1=clf1.predict(X_test)\n",
    "metrics.accuracy_score(Y_test, output1)"
   ]
  },
  {
   "cell_type": "code",
   "execution_count": 81,
   "metadata": {},
   "outputs": [],
   "source": [
    "clf2 = MLPClassifier(hidden_layer_sizes=(3000, 1500, 750), random_state=1, early_stopping = True, verbose=True)"
   ]
  },
  {
   "cell_type": "code",
   "execution_count": 82,
   "metadata": {},
   "outputs": [
    {
     "name": "stdout",
     "output_type": "stream",
     "text": [
      "Iteration 1, loss = 1.13013328\n",
      "Validation score: 0.758632\n",
      "Iteration 2, loss = 0.44800318\n",
      "Validation score: 0.752263\n",
      "Iteration 3, loss = 0.16221577\n",
      "Validation score: 0.766678\n",
      "Iteration 4, loss = 0.05771533\n",
      "Validation score: 0.771036\n",
      "Iteration 5, loss = 0.02626650\n",
      "Validation score: 0.772377\n",
      "Iteration 6, loss = 0.02049897\n",
      "Validation score: 0.760308\n",
      "Iteration 7, loss = 0.01651001\n",
      "Validation score: 0.766343\n",
      "Iteration 8, loss = 0.01515125\n",
      "Validation score: 0.766343\n",
      "Iteration 9, loss = 0.02255161\n",
      "Validation score: 0.758297\n",
      "Iteration 10, loss = 0.04594176\n",
      "Validation score: 0.754609\n",
      "Iteration 11, loss = 0.03867714\n",
      "Validation score: 0.755615\n",
      "Iteration 12, loss = 0.03439799\n",
      "Validation score: 0.752263\n",
      "Iteration 13, loss = 0.02579161\n",
      "Validation score: 0.756286\n",
      "Iteration 14, loss = 0.01911196\n",
      "Validation score: 0.750251\n",
      "Iteration 15, loss = 0.00894344\n",
      "Validation score: 0.759638\n",
      "Iteration 16, loss = 0.00859228\n",
      "Validation score: 0.764331\n",
      "Validation score did not improve more than tol=0.000100 for 10 consecutive epochs. Stopping.\n"
     ]
    },
    {
     "data": {
      "text/plain": [
       "MLPClassifier(early_stopping=True, hidden_layer_sizes=(3000, 1500, 750),\n",
       "              random_state=1, verbose=True)"
      ]
     },
     "execution_count": 82,
     "metadata": {},
     "output_type": "execute_result"
    }
   ],
   "source": [
    "clf2.fit(X_train, Y_train)"
   ]
  },
  {
   "cell_type": "code",
   "execution_count": 83,
   "metadata": {},
   "outputs": [
    {
     "data": {
      "text/plain": [
       "0.9735501173315454"
      ]
     },
     "execution_count": 83,
     "metadata": {},
     "output_type": "execute_result"
    }
   ],
   "source": [
    "output2=clf2.predict(X_train)\n",
    "metrics.accuracy_score(Y_train, output2)"
   ]
  },
  {
   "cell_type": "code",
   "execution_count": 190,
   "metadata": {},
   "outputs": [
    {
     "data": {
      "text/plain": [
       "0.7699115044247787"
      ]
     },
     "execution_count": 190,
     "metadata": {},
     "output_type": "execute_result"
    }
   ],
   "source": [
    "output2=clf2.predict(X_test)\n",
    "metrics.accuracy_score(Y_test, output2)"
   ]
  },
  {
   "cell_type": "markdown",
   "metadata": {},
   "source": [
    "### KNN(k-nearest neighbors)"
   ]
  },
  {
   "cell_type": "code",
   "execution_count": 9,
   "metadata": {},
   "outputs": [
    {
     "data": {
      "text/plain": [
       "KNeighborsClassifier()"
      ]
     },
     "execution_count": 9,
     "metadata": {},
     "output_type": "execute_result"
    }
   ],
   "source": [
    "from sklearn.neighbors import KNeighborsClassifier\n",
    "neigh = KNeighborsClassifier(n_neighbors=5)\n",
    "neigh.fit(X_train, Y_train)"
   ]
  },
  {
   "cell_type": "code",
   "execution_count": null,
   "metadata": {},
   "outputs": [],
   "source": [
    "Y_pred = neigh.predict(X_train)\n",
    "metrics.accuracy_score(Y_train, Y_pred)"
   ]
  },
  {
   "cell_type": "code",
   "execution_count": 10,
   "metadata": {},
   "outputs": [
    {
     "data": {
      "text/plain": [
       "0.5088495575221239"
      ]
     },
     "execution_count": 10,
     "metadata": {},
     "output_type": "execute_result"
    }
   ],
   "source": [
    "Y_pred = neigh.predict(X_test)\n",
    "metrics.accuracy_score(Y_test, Y_pred)"
   ]
  }
 ],
 "metadata": {
  "kernelspec": {
   "display_name": "Python 3",
   "language": "python",
   "name": "python3"
  },
  "language_info": {
   "codemirror_mode": {
    "name": "ipython",
    "version": 3
   },
   "file_extension": ".py",
   "mimetype": "text/x-python",
   "name": "python",
   "nbconvert_exporter": "python",
   "pygments_lexer": "ipython3",
   "version": "3.8.5"
  }
 },
 "nbformat": 4,
 "nbformat_minor": 4
}
